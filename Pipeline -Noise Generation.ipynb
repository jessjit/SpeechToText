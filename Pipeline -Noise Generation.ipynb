{
 "cells": [
  {
   "cell_type": "code",
   "execution_count": 45,
   "metadata": {},
   "outputs": [],
   "source": [
    "import IPython\n",
    "import os\n",
    "from scipy.io import wavfile\n",
    "import scipy.signal\n",
    "import numpy as np\n",
    "import matplotlib.pyplot as plt\n",
    "import librosa\n",
    "%matplotlib inline\n",
    "import soundfile as sf \n",
    "import librosa\n",
    "import pandas as pd\n",
    "import random"
   ]
  },
  {
   "cell_type": "code",
   "execution_count": 46,
   "metadata": {},
   "outputs": [],
   "source": [
    "def generate_with_noise(wav_1,wav_2):\n",
    "    src_data, src_rate = librosa.load(wav_1)\n",
    "    noise_data, noise_rate = librosa.load(wav_2)\n",
    "    dl = len(src_data)\n",
    "    nl = len(noise_data)\n",
    "    noise_to_add = noise_data / max(noise_data)\n",
    "    \n",
    "    # apply noise\n",
    "    snr = 15\n",
    "    noise_to_add.resize((dl,))\n",
    "    audio_clip_cafe = src_data + noise_to_add/snr\n",
    "    return audio_clip_cafe, src_rate\n",
    "\n",
    "\n",
    "def Get_Random_Noise_File(s):\n",
    "    for root,dirs,files in os.walk(rootdir_noise):\n",
    "        for file in files:\n",
    "            if(file.endswith('.wav')):\n",
    "                if(file==s):\n",
    "                    return(os.path.join(root,file))"
   ]
  },
  {
   "cell_type": "code",
   "execution_count": 47,
   "metadata": {},
   "outputs": [],
   "source": [
    "#w1 = 'tester.flac'\n",
    "#w2 = 'testing.wav'\n",
    "#a,r = generate_with_noise(w1,w2)\n",
    "#IPython.display.Audio(a, rate=r)"
   ]
  },
  {
   "cell_type": "code",
   "execution_count": 48,
   "metadata": {},
   "outputs": [
    {
     "name": "stdout",
     "output_type": "stream",
     "text": [
      "8732\n"
     ]
    }
   ],
   "source": [
    "#extracting noise from data\n",
    "Noise_List = []\n",
    "Noise_df = pd.read_csv('/Users/jessjitsingh/Desktop/Jessjit/Internships/Bobble/UrbanSound8K/metadata/UrbanSound8K.csv')\n",
    "print(len(Noise_df))\n",
    "Noise_series = Noise_df[\"slice_file_name\"]\n",
    "rootdir_noise = \"/Users/jessjitsingh/Desktop/Jessjit/Internships/Bobble/UrbanSound8K/audio\"\n",
    "for root,dirs,files in os.walk(rootdir_noise):\n",
    "    for file in files:\n",
    "        if(file.endswith('.wav')):\n",
    "            Noise_List.append(os.path.join(root,file))"
   ]
  },
  {
   "cell_type": "code",
   "execution_count": 49,
   "metadata": {},
   "outputs": [
    {
     "data": {
      "text/plain": [
       "2620"
      ]
     },
     "execution_count": 49,
     "metadata": {},
     "output_type": "execute_result"
    }
   ],
   "source": [
    "#extracting data \n",
    "Data_List = []\n",
    "rootdir_data = \"/Users/jessjitsingh/Desktop/Jessjit/Internships/Bobble/Test_Clean LibriSpeech/test-clean\"\n",
    "for root, dirs, files in os.walk(rootdir_data):\n",
    "    for file in files:\n",
    "        if(file.endswith('.flac')):\n",
    "            Data_List.append(os.path.join(root,file))\n",
    "len(Data_List)"
   ]
  },
  {
   "cell_type": "code",
   "execution_count": 50,
   "metadata": {},
   "outputs": [],
   "source": [
    "for data in Data_List:\n",
    "    x = random.randint(0,8731)\n",
    "    s = Noise_series[x]\n",
    "    n_string = Get_Random_Noise_File(s)\n",
    "    clip,rate = generate_with_noise(data,n_string)\n",
    "    sf.write('/Users/jessjitsingh/Desktop/NoiseFiles_SNR15/'+s, clip, rate)"
   ]
  },
  {
   "cell_type": "code",
   "execution_count": null,
   "metadata": {},
   "outputs": [],
   "source": []
  },
  {
   "cell_type": "code",
   "execution_count": null,
   "metadata": {},
   "outputs": [],
   "source": []
  }
 ],
 "metadata": {
  "kernelspec": {
   "display_name": "Python 3",
   "language": "python",
   "name": "python3"
  },
  "language_info": {
   "codemirror_mode": {
    "name": "ipython",
    "version": 3
   },
   "file_extension": ".py",
   "mimetype": "text/x-python",
   "name": "python",
   "nbconvert_exporter": "python",
   "pygments_lexer": "ipython3",
   "version": "3.6.4"
  }
 },
 "nbformat": 4,
 "nbformat_minor": 2
}
